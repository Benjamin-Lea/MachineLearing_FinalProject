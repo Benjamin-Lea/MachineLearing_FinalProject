{
  "cells": [
    {
      "attachments": {},
      "cell_type": "markdown",
      "metadata": {
        "id": "view-in-github"
      },
      "source": [
        "<a href=\"https://colab.research.google.com/github/Benjamin-Lea/MachineLearing_FinalProject/blob/main/DataSec_Project.ipynb\" target=\"_parent\"><img src=\"https://colab.research.google.com/assets/colab-badge.svg\" alt=\"Open In Colab\"/></a>"
      ]
    },
    {
      "attachments": {},
      "cell_type": "markdown",
      "metadata": {
        "id": "SlCUoLFFjpYs"
      },
      "source": [
        "# **SENG 4610 – Applications of Machine Learning to Software Engineering**\n",
        "# **Final Project : Machine-Learning Based Cyber Security**\n",
        "# Training File\n",
        "Athours: Sam Elgert, Ben Lea\n",
        "\n"
      ]
    },
    {
      "cell_type": "code",
      "execution_count": null,
      "metadata": {
        "id": "Df4QCtoSOP0D"
      },
      "outputs": [],
      "source": [
        "# Dependacies\n",
        "import pandas as pd\n",
        "import numpy as np\n",
        "from sklearn.model_selection import train_test_split\n",
        "import tensorflow as tf\n",
        "from tensorflow import keras\n",
        "from keras import datasets, layers, models\n",
        "from matplotlib import pyplot as plt\n",
        "from tensorflow.keras.utils import plot_model\n",
        "from keras.utils import to_categorical\n",
        "from sklearn import preprocessing\n",
        "from sklearn.metrics import classification_report\n",
        "%load_ext tensorboard\n",
        "from sklearn.preprocessing import OrdinalEncoder\n",
        "from sklearn.preprocessing import OneHotEncoder\n",
        "from sklearn.metrics import classification_report\n",
        "import joblib\n",
        "# Make numpy values easier to read.\n",
        "np.set_printoptions(precision=3, suppress=True)\n",
        "np.random.seed(40)"
      ]
    },
    {
      "attachments": {},
      "cell_type": "markdown",
      "metadata": {
        "id": "iaUyyGRMTCh3"
      },
      "source": [
        "## Data\n",
        "- Get the data\n",
        "- Process the data\n",
        "- split the training & testing data"
      ]
    },
    {
      "cell_type": "code",
      "execution_count": null,
      "metadata": {
        "id": "qzxPlJfHOTEV"
      },
      "outputs": [],
      "source": [
        "# Get the data #\n",
        "Data = pd.read_csv(\"SENG 4610 Training Data.csv\")\n",
        "\n",
        "\n",
        "\n",
        "# X Data - Drop the unesessary columns\n",
        "DataX = Data.drop(['id', 'attack_cat', 'label'], axis=1)\n",
        "ordinal_encoder = OrdinalEncoder()\n",
        "DataX = ordinal_encoder.fit_transform(DataX)\n",
        "DataX = pd.DataFrame(DataX)\n",
        "# Replace any strings with integers.\n",
        "\n",
        "\n",
        "# Data Normalization -- Scale the features to be between 0 an 1.\n",
        "x = DataX.values\n",
        "min_max_scaler = preprocessing.MinMaxScaler(feature_range= (0,1))\n",
        "x_scaled = min_max_scaler.fit_transform(x)\n",
        "DataX_Normalized = pd.DataFrame(x_scaled)\n",
        "\n",
        "\n",
        "# Y Data - Labels\n",
        "DataY_Binary = Data.iloc[: , -1:] # Has normal and attack\n",
        "DataY_Classifier = Data.iloc[: , -2:-1] # All the classes associated with the attacks\n",
        "DataY_Classes_withNames = DataY_Classifier;\n",
        "x = np.array([0,1])\n",
        "\n",
        "# Replace strings with ints for the labels\n",
        "DataY_Classifier = DataY_Classifier.replace('Normal', int(0))\n",
        "DataY_Classifier = DataY_Classifier.replace('Analysis', int(1))\n",
        "DataY_Classifier = DataY_Classifier.replace('Backdoor', int(2))\n",
        "DataY_Classifier = DataY_Classifier.replace('DoS', int(3))\n",
        "DataY_Classifier = DataY_Classifier.replace('Exploits', int(4))\n",
        "DataY_Classifier = DataY_Classifier.replace('Generic', int(5))\n",
        "DataY_Classifier = DataY_Classifier.replace('Reconnaissance', int(6))\n",
        "DataY_Classifier = DataY_Classifier.replace('Shellcode', int(7))\n",
        "DataY_Classifier = DataY_Classifier.replace('Worms', int(8))\n",
        "DataY_Classifier = DataY_Classifier.replace('Fuzzers', int(9))\n",
        "DataY_Classifier_Labels = ['Normal', 'Analysis', 'Backdoor', 'DoS', 'Exploits', 'Generic', 'Reconnaissance', 'Shellcode', 'Worms', 'Fuzzers']\n",
        "num_of_classess = 10\n",
        "\n",
        "DataX_Normalized = np.array(DataX_Normalized)\n",
        "DataY_Classifier = np.array(DataY_Classifier)\n",
        "# Split Training and Testing Data 75% 25%\n",
        "# By Defualt the train_test_split keeps the same percentage of each class as the total.\n",
        "X_train, X_test, y_train, y_test = train_test_split(DataX_Normalized, DataY_Classifier,test_size=0.25, shuffle= True, stratify = DataY_Classifier)"
      ]
    },
    {
      "attachments": {},
      "cell_type": "markdown",
      "metadata": {
        "id": "jz-Rkt5fIr7D"
      },
      "source": [
        "# dimensionality reduction\n",
        "Thorugh our testing we found no improments by reducing the dimentionality.\n"
      ]
    },
    {
      "cell_type": "code",
      "execution_count": null,
      "metadata": {
        "colab": {
          "base_uri": "https://localhost:8080/",
          "height": 279
        },
        "id": "dKVTPVTn2MHx",
        "outputId": "72ef39ca-1129-485c-fe89-e18a3f825da8"
      },
      "outputs": [
        {
          "data": {
            "image/png": "[encoded data removed]",
            "text/plain": [
              "<Figure size 432x288 with 1 Axes>"
            ]
          },
          "metadata": {
            "needs_background": "light"
          },
          "output_type": "display_data"
        }
      ],
      "source": [
        "# Demensionality Reduction\n",
        "from sklearn.decomposition import PCA\n",
        "pca = PCA()\n",
        "pca.fit(DataX_Normalized)\n",
        "cumsum = np.cumsum(pca.explained_variance_ratio_)\n",
        "plt.figure(figsize=(6,4))\n",
        "plt.plot(cumsum, linewidth=3)\n",
        "plt.xlabel(\"Dimensions\")\n",
        "plt.ylabel(\"Explained Variance\")\n",
        "plt.grid(True)\n",
        "plt.show()"
      ]
    },
    {
      "cell_type": "code",
      "execution_count": null,
      "metadata": {
        "id": "7JTxEhYNyv9p"
      },
      "outputs": [],
      "source": [
        "## Demensionality Reduction - Uncomment to reduce dementionality\n",
        "\n",
        "# pca = PCA(n_components=15) # 15 dimensional PCA\n",
        "# pca.fit(DataX)\n",
        "# DataX_pca = pca.transform(DataX)\n",
        "# X_train, X_test, y_train, y_test = train_test_split(DataX_pca, DataY_Classifier,test_size=0.25)"
      ]
    },
    {
      "attachments": {},
      "cell_type": "markdown",
      "metadata": {
        "id": "onJzQPZPoC2e"
      },
      "source": [
        "# Visualize the Data"
      ]
    },
    {
      "cell_type": "code",
      "execution_count": null,
      "metadata": {
        "colab": {
          "base_uri": "https://localhost:8080/",
          "height": 720
        },
        "id": "znDqxprIoBuJ",
        "outputId": "4fdd43e4-6ce3-4568-c77e-fc04037f25e4"
      },
      "outputs": [
        {
          "data": {
            "text/plain": [
              "array([<matplotlib.axes._subplots.AxesSubplot object at 0x7f845dfaca10>],\n",
              "      dtype=object)"
            ]
          },
          "execution_count": 5,
          "metadata": {},
          "output_type": "execute_result"
        },
        {
          "data": {
            "image/png": "[encoded data removed]",
            "text/plain": [
              "<Figure size 864x864 with 1 Axes>"
            ]
          },
          "metadata": {},
          "output_type": "display_data"
        }
      ],
      "source": [
        "DataY_Classes_withNames.apply(pd.value_counts).plot.pie(subplots=True, figsize=(12, 12),center =(-10,-10), autopct='%0.2f%%',  textprops={'fontsize': 14})"
      ]
    },
    {
      "attachments": {},
      "cell_type": "markdown",
      "metadata": {
        "id": "dzbJGWz-KsWf"
      },
      "source": [
        "# Random Guess Baseline Algorithm\n",
        "Algorithm that guess the attack based on how frequently they occur."
      ]
    },
    {
      "cell_type": "code",
      "execution_count": null,
      "metadata": {
        "colab": {
          "base_uri": "https://localhost:8080/"
        },
        "id": "Ldzf4LAsLD63",
        "outputId": "d45cc382-a80a-403c-b6c5-fd9f7ac3766e"
      },
      "outputs": [
        {
          "name": "stdout",
          "output_type": "stream",
          "text": [
            "tf.Tensor(\n",
            "[[17891  3956   591  3953 10701 12637     0   357    41  5873]\n",
            " [  641   134    27   124   397   463     0    12     0   202]\n",
            " [  516   121    15   125   328   439     0    15     1   186]\n",
            " [ 3860   910   102   827  2346  2859     0    67    12  1281]\n",
            " [10692  2359   321  2232  6354  7704     0   217    18  3496]\n",
            " [12690  2870   409  2814  7731  8966     0   293    30  4197]\n",
            " [ 3437   718    83   731  2008  2409     0    75     9  1021]\n",
            " [  359    69    13    80   203   279     0     9     0   121]\n",
            " [   36    11     2    12    31    24     0     1     0    13]\n",
            " [ 5822  1352   183  1287  3446  4108     0   129    12  1845]], shape=(10, 10), dtype=int32)\n"
          ]
        },
        {
          "name": "stderr",
          "output_type": "stream",
          "text": [
            "/usr/local/lib/python3.7/dist-packages/sklearn/metrics/_classification.py:1318: UndefinedMetricWarning: Precision and F-score are ill-defined and being set to 0.0 in labels with no predicted samples. Use `zero_division` parameter to control this behavior.\n",
            "  _warn_prf(average, modifier, msg_start, len(result))\n",
            "/usr/local/lib/python3.7/dist-packages/sklearn/metrics/_classification.py:1318: UndefinedMetricWarning: Precision and F-score are ill-defined and being set to 0.0 in labels with no predicted samples. Use `zero_division` parameter to control this behavior.\n",
            "  _warn_prf(average, modifier, msg_start, len(result))\n"
          ]
        },
        {
          "name": "stdout",
          "output_type": "stream",
          "text": [
            "                precision    recall  f1-score   support\n",
            "\n",
            "        Normal       0.32      0.32      0.32     56000\n",
            "      Analysis       0.01      0.07      0.02      2000\n",
            "      Backdoor       0.01      0.01      0.01      1746\n",
            "           DoS       0.07      0.07      0.07     12264\n",
            "      Exploits       0.19      0.19      0.19     33393\n",
            "       Generic       0.22      0.22      0.22     40000\n",
            "Reconnaissance       0.00      0.00      0.00     10491\n",
            "     Shellcode       0.01      0.01      0.01      1133\n",
            "         Worms       0.00      0.00      0.00       130\n",
            "       Fuzzers       0.10      0.10      0.10     18184\n",
            "\n",
            "      accuracy                           0.21    175341\n",
            "     macro avg       0.09      0.10      0.09    175341\n",
            "  weighted avg       0.20      0.21      0.21    175341\n",
            "\n"
          ]
        },
        {
          "name": "stderr",
          "output_type": "stream",
          "text": [
            "/usr/local/lib/python3.7/dist-packages/sklearn/metrics/_classification.py:1318: UndefinedMetricWarning: Precision and F-score are ill-defined and being set to 0.0 in labels with no predicted samples. Use `zero_division` parameter to control this behavior.\n",
            "  _warn_prf(average, modifier, msg_start, len(result))\n"
          ]
        }
      ],
      "source": [
        "import random\n",
        "y_predict_rand = np.array([])\n",
        "for y in range(len(DataY_Classifier)):\n",
        "  randomNum = random.random() * 100\n",
        "  if(randomNum <= 31.94):\n",
        "    y_predict_rand = np.append(y_predict_rand, 0)\n",
        "  elif(randomNum > 31.94 and randomNum <= (31.94 + 22.81)):\n",
        "      y_predict_rand = np.append(y_predict_rand, 5)\n",
        "  elif(randomNum >(31.94 + 22.81) and randomNum <= (31.94 + 22.81 + 19.04)):\n",
        "      y_predict_rand = np.append(y_predict_rand, 4)\n",
        "  elif(randomNum > (31.94 + 22.81 + 19.04) and randomNum <= (31.94 + 22.81 + 19.04 + 10.37)):\n",
        "     y_predict_rand = np.append(y_predict_rand, 9)\n",
        "  elif(randomNum > (31.94 + 22.81 + 19.04 + 10.37) and randomNum <= (31.94 + 22.81 + 19.04 + 10.37 + 6.99)):\n",
        "      y_predict_rand = np.append(y_predict_rand, 3)\n",
        "  elif(randomNum > (31.94 + 22.81 + 19.04 + 10.37 + 6.99) and randomNum <= (31.94 + 22.81 + 19.04 + 10.37 + 6.99 + 5.98)):\n",
        "    y_predict_rand = np.append(y_predict_rand, 1)\n",
        "  elif(randomNum > (31.94 + 22.81 + 19.04 + 10.37 + 6.99 + 5.98) and randomNum <= (31.94 + 22.81 + 19.04 + 10.37 + 6.99 + 5.98 + 1.14)):\n",
        "      y_predict_rand = np.append(y_predict_rand, 1)\n",
        "  elif(randomNum > (31.94 + 22.81 + 19.04 + 10.37 + 6.99 + 5.98 + 1.14) and randomNum <= (31.94 + 22.81 + 19.04 + 10.37 + 6.99 + 5.98 + 1.14 + 1)):\n",
        "      y_predict_rand = np.append(y_predict_rand, 2)\n",
        "  elif(randomNum > (31.94 + 22.81 + 19.04 + 10.37 + 6.99 + 5.98 + 1.14 + 1) and randomNum <= (31.94 + 22.81 + 19.04 + 10.37 + 6.99 + 5.98 + 1.14 + 1 + 0.65)):\n",
        "      y_predict_rand = np.append(y_predict_rand, 7)\n",
        "  elif(randomNum > (31.94 + 22.81 + 19.04 + 10.37 + 6.99 + 5.98 + 1.14 + 1 + 0.65) and randomNum <= (100)):\n",
        "      y_predict_rand = np.append(y_predict_rand, 8)\n",
        "  else:\n",
        "    y_predict_rand = np.append(y_predict_rand, 0)\n",
        "\n",
        "confusion_Rand = tf.math.confusion_matrix(\n",
        "              labels = DataY_Classifier,   # get trule labels\n",
        "              predictions = y_predict_rand,  # get predicted labels\n",
        "              num_classes=num_of_classess)\n",
        "print(confusion_Rand)\n",
        "print(classification_report(DataY_Classifier, y_predict_rand, target_names=DataY_Classifier_Labels))"
      ]
    },
    {
      "attachments": {},
      "cell_type": "markdown",
      "metadata": {
        "id": "s5OeNWrwV0xr"
      },
      "source": [
        "# Deep Neural Network\n",
        "In this approach we implement a DNN to determine the classes."
      ]
    },
    {
      "cell_type": "code",
      "execution_count": null,
      "metadata": {
        "id": "_0XNDlfP90JE"
      },
      "outputs": [],
      "source": [
        "# # Create the model\n",
        "model = models.Sequential()\n",
        "model.add(tf.keras.layers.Input(shape=(42,))) # Input\n",
        "model.add(tf.keras.layers.Dense(38, activation='relu'))\n",
        "model.add(tf.keras.layers.Dropout(0.2))\n",
        "model.add(tf.keras.layers.Dense(35, activation='relu'))\n",
        "model.add(tf.keras.layers.Dense(30, activation='relu'))\n",
        "model.add(tf.keras.layers.Dense(25, activation='relu'))\n",
        "model.add(tf.keras.layers.Dense(10, activation='softmax')) # Output Layer"
      ]
    },
    {
      "cell_type": "code",
      "execution_count": null,
      "metadata": {
        "colab": {
          "base_uri": "https://localhost:8080/"
        },
        "id": "KLR7jOR-7Pzm",
        "outputId": "7765b23d-14dd-44f6-9b1c-cc5080fa6275"
      },
      "outputs": [
        {
          "name": "stdout",
          "output_type": "stream",
          "text": [
            "Model: \"sequential\"\n",
            "_________________________________________________________________\n",
            " Layer (type)                Output Shape              Param #   \n",
            "=================================================================\n",
            " dense (Dense)               (None, 38)                1634      \n",
            "                                                                 \n",
            " dropout (Dropout)           (None, 38)                0         \n",
            "                                                                 \n",
            " dense_1 (Dense)             (None, 35)                1365      \n",
            "                                                                 \n",
            " dense_2 (Dense)             (None, 30)                1080      \n",
            "                                                                 \n",
            " dense_3 (Dense)             (None, 25)                775       \n",
            "                                                                 \n",
            " dense_4 (Dense)             (None, 10)                260       \n",
            "                                                                 \n",
            "=================================================================\n",
            "Total params: 5,114\n",
            "Trainable params: 5,114\n",
            "Non-trainable params: 0\n",
            "_________________________________________________________________\n",
            "None\n"
          ]
        }
      ],
      "source": [
        "lss = loss=tf.keras.losses.SparseCategoricalCrossentropy()\n",
        "opt = tf.keras.optimizers.Adam(learning_rate=0.001)\n",
        "model.compile(optimizer= opt, loss = lss, metrics=['accuracy'])\n",
        "print(model.summary())"
      ]
    },
    {
      "cell_type": "code",
      "execution_count": null,
      "metadata": {
        "id": "LElUeLVeod8g"
      },
      "outputs": [],
      "source": [
        "# Set a subdirectory name in log_dir directory based on current time\n",
        "def make_logdir():\n",
        " import time\n",
        " return 'log_dir/log_' + time.strftime(\"%Y_%m_%d-%H_%M_%S\")\n",
        "run_logdir = make_logdir() # Get the subdirectory name\n",
        "keras.backend.clear_session()\n",
        "checkpoint_cb = keras.callbacks.ModelCheckpoint(\"DNN_Model.h5\")\n",
        "tensorboard_cb = keras.callbacks.TensorBoard(run_logdir)"
      ]
    },
    {
      "cell_type": "code",
      "execution_count": null,
      "metadata": {
        "id": "FYPB58cR-aeC"
      },
      "outputs": [],
      "source": [
        "# Train the model\n",
        "callback_ES = tf.keras.callbacks.EarlyStopping(monitor='val_accuracy', patience=10)\n",
        "history  = model.fit(X_train, y_train, epochs=100, batch_size=64, validation_split=0.1, callbacks=[checkpoint_cb, tensorboard_cb, callback_ES])"
      ]
    },
    {
      "attachments": {},
      "cell_type": "markdown",
      "metadata": {
        "id": "-TY8wm1wXr0C"
      },
      "source": [
        "# Random Forest Classifier\n"
      ]
    },
    {
      "cell_type": "code",
      "execution_count": null,
      "metadata": {
        "id": "jLrCyYp9QNck"
      },
      "outputs": [],
      "source": [
        "from sklearn.model_selection import RandomizedSearchCV\n",
        "from sklearn.ensemble import RandomForestRegressor\n",
        "DoRandomizedSearch = False\n",
        "if(DoRandomizedSearch):\n",
        "  rf = RandomForestRegressor(random_state = 42)\n",
        "  # Number of trees in random forest\n",
        "  n_estimators = [int(x) for x in np.linspace(start =25, stop = 100, num = 10)]\n",
        "  # Number of features to consider at every split\n",
        "  max_features = ['auto', 'sqrt']\n",
        "  # Maximum number of levels in tree\n",
        "  max_depth = [int(x) for x in np.linspace(10, 110, num = 11)]\n",
        "  max_depth.append(None)\n",
        "  # Minimum number of samples required to split a node\n",
        "  min_samples_split = [2, 5, 10]\n",
        "  # Minimum number of samples required at each leaf node\n",
        "  min_samples_leaf = [1, 2, 4]\n",
        "  # Method of selecting samples for training each tree\n",
        "  bootstrap = [True, False]\n",
        "  # Create the random grid\n",
        "  random_grid = {'n_estimators': n_estimators,\n",
        "                'max_features': max_features,\n",
        "                'max_depth': max_depth,\n",
        "                'min_samples_split': min_samples_split,\n",
        "                'min_samples_leaf': min_samples_leaf,\n",
        "                'bootstrap': bootstrap}\n",
        "  rf_random = RandomizedSearchCV(estimator = rf, param_distributions = random_grid, n_iter = 25, cv = 2, verbose=10, random_state=42, n_jobs = -1)\n",
        "  # Fit the random search model\n",
        "  rf_random.fit(X_train, y_train)\n",
        "  rf_random.best_params_"
      ]
    },
    {
      "cell_type": "code",
      "execution_count": null,
      "metadata": {
        "colab": {
          "base_uri": "https://localhost:8080/"
        },
        "id": "PlbV8l6LEXz1",
        "outputId": "76ab14ad-d95d-4083-f8ae-2f8f046e1722"
      },
      "outputs": [
        {
          "name": "stderr",
          "output_type": "stream",
          "text": [
            "/usr/local/lib/python3.7/dist-packages/ipykernel_launcher.py:3: DataConversionWarning: A column-vector y was passed when a 1d array was expected. Please change the shape of y to (n_samples,), for example using ravel().\n",
            "  This is separate from the ipykernel package so we can avoid doing imports until\n"
          ]
        },
        {
          "name": "stdout",
          "output_type": "stream",
          "text": [
            "                precision    recall  f1-score   support\n",
            "\n",
            "        Normal       0.95      0.93      0.94     14000\n",
            "      Analysis       0.71      0.16      0.26       500\n",
            "      Backdoor       0.76      0.13      0.22       437\n",
            "           DoS       0.35      0.14      0.20      3066\n",
            "      Exploits       0.63      0.90      0.74      8348\n",
            "       Generic       1.00      0.98      0.99     10000\n",
            "Reconnaissance       0.92      0.77      0.84      2623\n",
            "     Shellcode       0.70      0.70      0.70       283\n",
            "         Worms       0.22      0.06      0.10        33\n",
            "       Fuzzers       0.76      0.76      0.76      4546\n",
            "\n",
            "      accuracy                           0.83     43836\n",
            "     macro avg       0.70      0.55      0.57     43836\n",
            "  weighted avg       0.83      0.83      0.82     43836\n",
            "\n"
          ]
        }
      ],
      "source": [
        "from sklearn.ensemble import RandomForestClassifier\n",
        "rf_clf = RandomForestClassifier(max_depth=20, min_samples_split=4, n_estimators=100, bootstrap = False)\n",
        "rf_clf.fit(X_train,y_train)\n",
        "y_pred_rf = rf_clf.predict(X_test)\n",
        "print(classification_report( y_test, y_pred_rf, target_names=DataY_Classifier_Labels))"
      ]
    },
    {
      "attachments": {},
      "cell_type": "markdown",
      "metadata": {
        "id": "suGWtEvsCc3h"
      },
      "source": [
        "# DecisionTreeClassifier"
      ]
    },
    {
      "cell_type": "code",
      "execution_count": null,
      "metadata": {
        "id": "dLjmOTO0Nthh"
      },
      "outputs": [],
      "source": [
        "from sklearn.tree import DecisionTreeClassifier"
      ]
    },
    {
      "cell_type": "code",
      "execution_count": null,
      "metadata": {
        "id": "vba_BAevMd_d"
      },
      "outputs": [],
      "source": [
        "## Grid Search For Optimal Configuration ##\n",
        "GridSearchDecicionTree = False\n",
        "if(GridSearchDecicionTree):\n",
        "  from sklearn.model_selection import GridSearchCV\n",
        "  max_depth_range = [4,5,6,7,8,9,10,11,12,15,20,30,40,50,70,90,120,150]\n",
        "  min_samples_leaf_range = [3,4,5,6,7,8,9,10,11,12,15,20,30,40,50,70,90,120,150]\n",
        "  tree_param = [{'criterion': ['entropy', 'gini'], 'max_depth': max_depth_range},\n",
        "                {'min_samples_leaf': min_samples_leaf_range}]\n",
        "  grid_search_cv = GridSearchCV(DecisionTreeClassifier(), tree_param, verbose = 10)\n",
        "  grid_search_cv.fit(X_train, y_train)\n",
        "  grid_search_cv.best_estimator_"
      ]
    },
    {
      "cell_type": "code",
      "execution_count": null,
      "metadata": {
        "colab": {
          "base_uri": "https://localhost:8080/"
        },
        "id": "2bg2fuKs4-WS",
        "outputId": "3e0b6038-ec40-44c6-e006-b26e817bdb76"
      },
      "outputs": [
        {
          "name": "stdout",
          "output_type": "stream",
          "text": [
            "                precision    recall  f1-score   support\n",
            "\n",
            "        Normal       0.92      0.92      0.92     14000\n",
            "      Analysis       0.48      0.18      0.26       500\n",
            "      Backdoor       0.66      0.12      0.20       437\n",
            "           DoS       0.29      0.28      0.28      3066\n",
            "      Exploits       0.64      0.77      0.70      8348\n",
            "       Generic       0.99      0.98      0.99     10000\n",
            "Reconnaissance       0.91      0.75      0.82      2623\n",
            "     Shellcode       0.62      0.57      0.59       283\n",
            "         Worms       0.42      0.30      0.35        33\n",
            "       Fuzzers       0.75      0.67      0.71      4546\n",
            "\n",
            "      accuracy                           0.81     43836\n",
            "     macro avg       0.67      0.55      0.58     43836\n",
            "  weighted avg       0.81      0.81      0.80     43836\n",
            "\n"
          ]
        }
      ],
      "source": [
        "# Train\n",
        "dt_clf = DecisionTreeClassifier(criterion='entropy', max_depth=50, min_samples_leaf = 4)\n",
        "dt_clf.fit(X_train, y_train)\n",
        "# Test\n",
        "y_pred_DT = dt_clf.predict(X_test)\n",
        "print(classification_report(y_test, y_pred_DT, target_names=DataY_Classifier_Labels))"
      ]
    },
    {
      "attachments": {},
      "cell_type": "markdown",
      "metadata": {
        "id": "duRgRktpFoNG"
      },
      "source": [
        "# Voting"
      ]
    },
    {
      "cell_type": "code",
      "execution_count": null,
      "metadata": {
        "id": "JXaNVf9ZwrBM"
      },
      "outputs": [],
      "source": [
        "def printResults(YPredict, YLabel, Title):\n",
        "  print(\"\\n\\n########################################\\t\\n\", Title ,\"\\n########################################\");\n",
        "  print(classification_report(YLabel, YPredict, target_names=DataY_Classifier_Labels))\n",
        "  confusion = tf.math.confusion_matrix( labels = YLabel, predictions = YPredict, num_classes=10)\n",
        "  print(confusion)"
      ]
    },
    {
      "cell_type": "code",
      "execution_count": null,
      "metadata": {
        "id": "IieI6QUy9eOb"
      },
      "outputs": [],
      "source": []
    },
    {
      "cell_type": "code",
      "execution_count": null,
      "metadata": {
        "id": "wfwETmatxVck"
      },
      "outputs": [],
      "source": [
        "# Get the probabilities of each classification\n",
        "y_pred_dnn = model.predict(X_test)\n",
        "y_pred_rf = np.array(rf_clf.predict_proba(X_test))\n",
        "y_pred_dt = dt_clf.predict_proba(X_test)\n",
        "y_pred_ensamble = y_pred_dnn + y_pred_rf + y_pred_dt\n",
        "\n",
        "# Do the soft voting\n",
        "# y_pred_ensamble = np.argmax(y_pred_ensamble, axis = 1)\n",
        "\n",
        "printResults(np.argmax(y_pred_dnn, axis = 1), y_test, \"DNN\")\n",
        "printResults(np.argmax(y_pred_dt, axis =1 ), y_test, \"Decision Tree\")\n",
        "printResults(np.argmax(y_pred_rf, axis =1 ), y_test, \"Random Forest\")\n",
        "printResults(np.argmax(y_pred_ensamble, axis =1 ), y_test, \"Soft Voting Esamble\")"
      ]
    },
    {
      "cell_type": "code",
      "execution_count": null,
      "metadata": {
        "colab": {
          "base_uri": "https://localhost:8080/"
        },
        "id": "QRs4EgqEHhp8",
        "outputId": "9601d298-4d76-4c6b-f128-7452812baf3e"
      },
      "outputs": [
        {
          "name": "stdout",
          "output_type": "stream",
          "text": [
            "Looking in indexes: https://pypi.org/simple, https://us-python.pkg.dev/colab-wheels/public/simple/\n",
            "Requirement already satisfied: scikeras in /usr/local/lib/python3.7/dist-packages (0.9.0)\n",
            "Requirement already satisfied: importlib-metadata>=3 in /usr/local/lib/python3.7/dist-packages (from scikeras) (4.13.0)\n",
            "Requirement already satisfied: scikit-learn>=1.0.0 in /usr/local/lib/python3.7/dist-packages (from scikeras) (1.0.2)\n",
            "Requirement already satisfied: packaging>=0.21 in /usr/local/lib/python3.7/dist-packages (from scikeras) (21.3)\n",
            "Requirement already satisfied: zipp>=0.5 in /usr/local/lib/python3.7/dist-packages (from importlib-metadata>=3->scikeras) (3.10.0)\n",
            "Requirement already satisfied: typing-extensions>=3.6.4 in /usr/local/lib/python3.7/dist-packages (from importlib-metadata>=3->scikeras) (4.1.1)\n",
            "Requirement already satisfied: pyparsing!=3.0.5,>=2.0.2 in /usr/local/lib/python3.7/dist-packages (from packaging>=0.21->scikeras) (3.0.9)\n",
            "Requirement already satisfied: numpy>=1.14.6 in /usr/local/lib/python3.7/dist-packages (from scikit-learn>=1.0.0->scikeras) (1.21.6)\n",
            "Requirement already satisfied: joblib>=0.11 in /usr/local/lib/python3.7/dist-packages (from scikit-learn>=1.0.0->scikeras) (1.2.0)\n",
            "Requirement already satisfied: threadpoolctl>=2.0.0 in /usr/local/lib/python3.7/dist-packages (from scikit-learn>=1.0.0->scikeras) (3.1.0)\n",
            "Requirement already satisfied: scipy>=1.1.0 in /usr/local/lib/python3.7/dist-packages (from scikit-learn>=1.0.0->scikeras) (1.7.3)\n"
          ]
        }
      ],
      "source": [
        "!pip install scikeras\n",
        "from sklearn.ensemble import  VotingClassifier\n",
        "from scikeras.wrappers import KerasClassifier"
      ]
    },
    {
      "attachments": {},
      "cell_type": "markdown",
      "metadata": {
        "id": "m5uesznqI0MV"
      },
      "source": [
        "# Ensemble"
      ]
    },
    {
      "cell_type": "code",
      "execution_count": null,
      "metadata": {
        "colab": {
          "base_uri": "https://localhost:8080/"
        },
        "id": "4B88NjnjLRrx",
        "outputId": "91d9e4a5-2b36-4729-c3da-87d11f0ae51a"
      },
      "outputs": [
        {
          "name": "stdout",
          "output_type": "stream",
          "text": [
            "685/685 [==============================] - 5s 7ms/step\n"
          ]
        },
        {
          "data": {
            "text/plain": [
              "array([[0.014, 0.046, 0.043, ..., 0.006, 0.001, 0.068],\n",
              "       [0.347, 0.002, 0.001, ..., 0.002, 0.   , 0.386],\n",
              "       [0.455, 0.001, 0.   , ..., 0.001, 0.   , 0.447],\n",
              "       ...,\n",
              "       [0.005, 0.039, 0.035, ..., 0.002, 0.   , 0.041],\n",
              "       [0.   , 0.   , 0.   , ..., 0.   , 0.   , 0.   ],\n",
              "       [0.001, 0.008, 0.001, ..., 0.   , 0.   , 0.001]], dtype=float32)"
            ]
          },
          "execution_count": 31,
          "metadata": {},
          "output_type": "execute_result"
        }
      ],
      "source": [
        "#wrappedModel.fit(X_train, y_train)\n",
        "wrappedModel.predict_proba(X_test)"
      ]
    },
    {
      "cell_type": "code",
      "execution_count": null,
      "metadata": {
        "id": "ooUGf5BOEG_X"
      },
      "outputs": [],
      "source": [
        "# model = KerasClassifier(model=create_model, epochs=150, batch_size=10, verbose=0)\n",
        "# X_train, y_train, epochs=100, batch_size=64, validation_split=0.1, callbacks=[checkpoint_cb, tensorboard_cb, callback_ES]\n",
        "lss = loss=tf.keras.losses.SparseCategoricalCrossentropy()\n",
        "opt = tf.keras.optimizers.Adam(learning_rate=0.001)\n",
        "# model.compile(optimizer= opt, loss = lss, metrics=['accuracy'])\n",
        "keras.backend.clear_session()\n",
        "wrappedModel = KerasClassifier(model = model, loss = lss, optimizer= opt, metrics=['accuracy'],\n",
        "                               epochs = 5, batch_size = 64, verbose = 1, validation_split=0.1, callbacks=[checkpoint_cb, tensorboard_cb, callback_ES])\n",
        "eclf = VotingClassifier(estimators=[('dnn', wrappedModel), ('rf', rf_clf), ('dt', dt_clf)], voting='soft')\n",
        "eclf.fit(X_train, y_train)"
      ]
    },
    {
      "cell_type": "code",
      "execution_count": null,
      "metadata": {
        "id": "pOr7BBFXSsNF"
      },
      "outputs": [],
      "source": [
        "def createModel():\n",
        "  # # Create the model\n",
        "  model = models.Sequential()\n",
        "  model.add(tf.keras.layers.Input(shape=(42,))) # Input\n",
        "  model.add(tf.keras.layers.Dense(38, activation='relu'))\n",
        "  model.add(tf.keras.layers.Dropout(0.2))\n",
        "  model.add(tf.keras.layers.Dense(35, activation='relu'))\n",
        "  model.add(tf.keras.layers.Dense(30, activation='relu'))\n",
        "  model.add(tf.keras.layers.Dense(25, activation='relu'))\n",
        "  model.add(tf.keras.layers.Dense(10, activation='softmax')) # Output Layer\n",
        "  lss = loss=tf.keras.losses.SparseCategoricalCrossentropy()\n",
        "  opt = tf.keras.optimizers.Adam(learning_rate=0.001)\n",
        "  model.compile(optimizer= opt, loss = lss, metrics=['accuracy'])\n",
        "  model.class_weight = {0: weight_for_0, 1: weight_for_1}\n",
        "  return model"
      ]
    },
    {
      "cell_type": "code",
      "execution_count": null,
      "metadata": {
        "colab": {
          "base_uri": "https://localhost:8080/"
        },
        "id": "_g85Mu4dPHRm",
        "outputId": "087d98c8-4081-4aa6-f08d-138a61d95fcc"
      },
      "outputs": [
        {
          "name": "stderr",
          "output_type": "stream",
          "text": [
            "/usr/local/lib/python3.7/dist-packages/scikeras/wrappers.py:302: UserWarning: ``build_fn`` will be renamed to ``model`` in a future release, at which point use of ``build_fn`` will raise an Error instead.\n",
            "  \"``build_fn`` will be renamed to ``model`` in a future release,\"\n"
          ]
        },
        {
          "name": "stdout",
          "output_type": "stream",
          "text": [
            "Epoch 1/5\n",
            "1850/1850 [==============================] - 21s 10ms/step - loss: 0.8194 - accuracy: 0.7044 - val_loss: 0.6649 - val_accuracy: 0.7524\n",
            "Epoch 2/5\n",
            "1850/1850 [==============================] - 24s 13ms/step - loss: 0.6491 - accuracy: 0.7566 - val_loss: 0.6039 - val_accuracy: 0.7688\n",
            "Epoch 3/5\n",
            "1850/1850 [==============================] - 24s 13ms/step - loss: 0.6041 - accuracy: 0.7698 - val_loss: 0.5680 - val_accuracy: 0.7822\n",
            "Epoch 4/5\n",
            "1850/1850 [==============================] - 30s 16ms/step - loss: 0.5820 - accuracy: 0.7769 - val_loss: 0.5511 - val_accuracy: 0.7855\n",
            "Epoch 5/5\n",
            "1850/1850 [==============================] - 20s 11ms/step - loss: 0.5689 - accuracy: 0.7803 - val_loss: 0.5412 - val_accuracy: 0.7887\n"
          ]
        },
        {
          "data": {
            "text/plain": [
              "KerasClassifier(\n",
              "\tmodel=None\n",
              "\tbuild_fn=<function createModel at 0x7f8453f51a70>\n",
              "\twarm_start=False\n",
              "\trandom_state=None\n",
              "\toptimizer=rmsprop\n",
              "\tloss=None\n",
              "\tmetrics=None\n",
              "\tbatch_size=64\n",
              "\tvalidation_batch_size=None\n",
              "\tverbose=1\n",
              "\tcallbacks=[<keras.callbacks.ModelCheckpoint object at 0x7f8452f83f50>, <keras.callbacks.TensorBoard object at 0x7f8452f83390>, <keras.callbacks.EarlyStopping object at 0x7f8453a82d50>]\n",
              "\tvalidation_split=0.1\n",
              "\tshuffle=True\n",
              "\trun_eagerly=False\n",
              "\tepochs=5\n",
              "\tclass_weight=None\n",
              ")"
            ]
          },
          "execution_count": 46,
          "metadata": {},
          "output_type": "execute_result"
        }
      ],
      "source": [
        "keras.backend.clear_session()\n",
        "wrappedModel = KerasClassifier(build_fn = createModel,\n",
        "                               epochs = 5, batch_size = 64, verbose = 1, validation_split=0.1, callbacks=[checkpoint_cb, tensorboard_cb, callback_ES])\n",
        "wrappedModel.fit(X_train, y_train)"
      ]
    },
    {
      "cell_type": "code",
      "execution_count": null,
      "metadata": {
        "colab": {
          "base_uri": "https://localhost:8080/"
        },
        "id": "ywV11hEtTs-c",
        "outputId": "b64cb243-517b-4442-b8ff-3b9db3d39294"
      },
      "outputs": [
        {
          "name": "stderr",
          "output_type": "stream",
          "text": [
            "/usr/local/lib/python3.7/dist-packages/sklearn/preprocessing/_label.py:98: DataConversionWarning: A column-vector y was passed when a 1d array was expected. Please change the shape of y to (n_samples, ), for example using ravel().\n",
            "  y = column_or_1d(y, warn=True)\n",
            "/usr/local/lib/python3.7/dist-packages/sklearn/preprocessing/_label.py:133: DataConversionWarning: A column-vector y was passed when a 1d array was expected. Please change the shape of y to (n_samples, ), for example using ravel().\n",
            "  y = column_or_1d(y, warn=True)\n",
            "/usr/local/lib/python3.7/dist-packages/scikeras/wrappers.py:302: UserWarning: ``build_fn`` will be renamed to ``model`` in a future release, at which point use of ``build_fn`` will raise an Error instead.\n",
            "  \"``build_fn`` will be renamed to ``model`` in a future release,\"\n"
          ]
        },
        {
          "name": "stdout",
          "output_type": "stream",
          "text": [
            "Epoch 1/5\n",
            "1850/1850 [==============================] - 23s 11ms/step - loss: 0.8118 - accuracy: 0.7026 - val_loss: 0.6632 - val_accuracy: 0.7464\n",
            "Epoch 2/5\n",
            "1850/1850 [==============================] - 31s 17ms/step - loss: 0.6362 - accuracy: 0.7616 - val_loss: 0.5881 - val_accuracy: 0.7755\n",
            "Epoch 3/5\n",
            "1850/1850 [==============================] - 22s 12ms/step - loss: 0.5890 - accuracy: 0.7745 - val_loss: 0.5692 - val_accuracy: 0.7795\n",
            "Epoch 4/5\n",
            "1850/1850 [==============================] - 26s 14ms/step - loss: 0.5691 - accuracy: 0.7801 - val_loss: 0.5478 - val_accuracy: 0.7846\n",
            "Epoch 5/5\n",
            "1850/1850 [==============================] - 16s 8ms/step - loss: 0.5584 - accuracy: 0.7832 - val_loss: 0.5322 - val_accuracy: 0.7900\n"
          ]
        },
        {
          "data": {
            "text/plain": [
              "VotingClassifier(estimators=[('dnn',\n",
              "                              KerasClassifier(batch_size=64, build_fn=<function createModel at 0x7f8453f51a70>, epochs=5, validation_split=0.1)),\n",
              "                             ('rf',\n",
              "                              RandomForestClassifier(bootstrap=False,\n",
              "                                                     max_depth=20,\n",
              "                                                     min_samples_split=4)),\n",
              "                             ('dt',\n",
              "                              DecisionTreeClassifier(criterion='entropy',\n",
              "                                                     max_depth=50,\n",
              "                                                     min_samples_leaf=4))],\n",
              "                 voting='soft')"
            ]
          },
          "execution_count": 49,
          "metadata": {},
          "output_type": "execute_result"
        }
      ],
      "source": [
        "keras.backend.clear_session()\n",
        "wrappedModel = KerasClassifier(build_fn = createModel,\n",
        "                               epochs = 5, batch_size = 64, verbose = 1, validation_split=0.1)\n",
        "eclf = VotingClassifier(estimators=[('dnn', wrappedModel), ('rf', rf_clf), ('dt', dt_clf)], voting='soft')\n",
        "eclf.fit(X_train, y_train)"
      ]
    },
    {
      "cell_type": "code",
      "execution_count": null,
      "metadata": {
        "colab": {
          "base_uri": "https://localhost:8080/"
        },
        "id": "W9TmQ1cIJhBz",
        "outputId": "caaf8864-99e4-4f6e-d8e6-30a4ff824758"
      },
      "outputs": [
        {
          "name": "stdout",
          "output_type": "stream",
          "text": [
            "685/685 [==============================] - 5s 7ms/step\n",
            "\n",
            "\n",
            "########################################\t\n",
            " ECLF \n",
            "########################################\n",
            "                precision    recall  f1-score   support\n",
            "\n",
            "        Normal       0.94      0.91      0.93     14000\n",
            "      Analysis       0.66      0.13      0.21       500\n",
            "      Backdoor       0.69      0.14      0.23       437\n",
            "           DoS       0.35      0.11      0.17      3066\n",
            "      Exploits       0.62      0.90      0.74      8348\n",
            "       Generic       1.00      0.98      0.99     10000\n",
            "Reconnaissance       0.90      0.76      0.82      2623\n",
            "     Shellcode       0.63      0.66      0.64       283\n",
            "         Worms       0.69      0.27      0.39        33\n",
            "       Fuzzers       0.73      0.74      0.74      4546\n",
            "\n",
            "      accuracy                           0.82     43836\n",
            "     macro avg       0.72      0.56      0.59     43836\n",
            "  weighted avg       0.82      0.82      0.81     43836\n",
            "\n",
            "tf.Tensor(\n",
            "[[12759    21     0     3   100     0    12    10     0  1095]\n",
            " [   54    64    24    36   321     0     1     0     0     0]\n",
            " [    0     7    59    37   323     3     1     2     0     5]\n",
            " [    8     0     0   339  2641     3    24    25     0    26]\n",
            " [   59     4     0   436  7552     9   160    43     3    82]\n",
            " [    3     1     0    27   140  9814     1     1     1    12]\n",
            " [    2     0     1    48   581     0  1987     1     0     3]\n",
            " [    9     0     0    14    30     1     6   186     0    37]\n",
            " [    0     0     0     0    20     0     0     0     9     4]\n",
            " [  678     0     2    41   406     2     9    27     0  3381]], shape=(10, 10), dtype=int32)\n"
          ]
        }
      ],
      "source": [
        "eclf_pred = eclf.predict(X_test)\n",
        "printResults(eclf_pred, y_test, \"ECLF\")"
      ]
    },
    {
      "attachments": {},
      "cell_type": "markdown",
      "metadata": {
        "id": "DL8PWhJ2zJvC"
      },
      "source": [
        "# Save Models to files\n"
      ]
    },
    {
      "cell_type": "code",
      "execution_count": null,
      "metadata": {
        "colab": {
          "base_uri": "https://localhost:8080/"
        },
        "id": "ZOnrXAKgzJJa",
        "outputId": "65fba93c-0cf8-4a22-f78b-7d4863d4d339"
      },
      "outputs": [
        {
          "data": {
            "text/plain": [
              "['Models/EnsembleModel.pkl']"
            ]
          },
          "execution_count": 51,
          "metadata": {},
          "output_type": "execute_result"
        }
      ],
      "source": [
        "# joblib.dump(dt_clf, \"Models/DecisionTreeModel.pkl\")\n",
        "# joblib.dump(rf_clf, \"Models/RandomForestModel.pkl\")\n",
        "# model.save(\"Models/DNNModel.h5\")\n",
        "joblib.dump(eclf, \"Models/EnsembleModel.pkl\")"
      ]
    }
  ],
  "metadata": {
    "accelerator": "TPU",
    "colab": {
      "provenance": []
    },
    "gpuClass": "standard",
    "kernelspec": {
      "display_name": "Python 3",
      "name": "python3"
    },
    "language_info": {
      "name": "python"
    }
  },
  "nbformat": 4,
  "nbformat_minor": 0
}
