{
  "cells": [
    {
      "cell_type": "markdown",
      "metadata": {
        "id": "view-in-github",
        "colab_type": "text"
      },
      "source": [
        "<a href=\"https://colab.research.google.com/github/Benjamin-Lea/MachineLearing_FinalProject/blob/main/DataSec_Project.ipynb\" target=\"_parent\"><img src=\"https://colab.research.google.com/assets/colab-badge.svg\" alt=\"Open In Colab\"/></a>"
      ]
    },
    {
      "cell_type": "code",
      "execution_count": 1,
      "metadata": {
        "id": "Df4QCtoSOP0D"
      },
      "outputs": [],
      "source": [
        "import pandas as pd\n",
        "import numpy as np\n",
        "from sklearn.model_selection import train_test_split\n",
        "import tensorflow as tf\n",
        "from tensorflow import keras\n",
        "from keras import datasets, layers, models\n",
        "from matplotlib import pyplot as plt\n",
        "from tensorflow.keras.utils import plot_model\n",
        "from keras.utils import to_categorical\n",
        "from sklearn import preprocessing\n",
        "%load_ext tensorboard\n",
        "# Make numpy values easier to read.\n",
        "np.set_printoptions(precision=3, suppress=True)\n"
      ]
    },
    {
      "cell_type": "markdown",
      "source": [
        "# Geting and preping the data"
      ],
      "metadata": {
        "id": "iaUyyGRMTCh3"
      }
    },
    {
      "cell_type": "code",
      "execution_count": 2,
      "metadata": {
        "id": "qzxPlJfHOTEV"
      },
      "outputs": [],
      "source": [
        "# Get the data #\n",
        "Data = pd.read_csv(\"SENG 4610 Training Data.csv\")\n",
        "\n",
        "# X Data - Drop the unesessary columns\n",
        "DataX = Data.drop(['id', 'attack_cat', 'label'], axis=1)\n",
        "colNames = list(DataX.columns) \n",
        "\n",
        "# Replace any strings with integers.\n",
        "DataX = DataX.replace('3pc', (0))\n",
        "DataX = DataX.replace('a/n', (1))\n",
        "DataX = DataX.replace('aes-sp3-d', (2))\n",
        "DataX = DataX.replace('any', (3))\n",
        "DataX = DataX.replace('argus', (4))\n",
        "DataX = DataX.replace('aris', (5))\n",
        "DataX = DataX.replace('arp', (6))\n",
        "DataX = DataX.replace('ax.25', (7))\n",
        "DataX = DataX.replace('bbn-rcc', (8))\n",
        "DataX = DataX.replace('bna', (9))\n",
        "DataX = DataX.replace('br-sat-mon', (10))\n",
        "DataX = DataX.replace('cbt', (11))\n",
        "DataX = DataX.replace('cftp', (12))\n",
        "DataX = DataX.replace('chaos', (13))\n",
        "DataX = DataX.replace('compaq-peer', (14))\n",
        "DataX = DataX.replace('cphb', (15))\n",
        "DataX = DataX.replace('cpnx', (16))\n",
        "DataX = DataX.replace('crtp', (17))\n",
        "DataX = DataX.replace('crudp', (18))\n",
        "DataX = DataX.replace('dcn', (19))\n",
        "DataX = DataX.replace('ddp', (20))\n",
        "DataX = DataX.replace('ddx', (21))\n",
        "DataX = DataX.replace('dgp', (22))\n",
        "DataX = DataX.replace('egp', (23))\n",
        "DataX = DataX.replace('eigrp', (24))\n",
        "DataX = DataX.replace('emcon', (25))\n",
        "DataX = DataX.replace('encap', (26))\n",
        "DataX = DataX.replace('etherip', (27))\n",
        "DataX = DataX.replace('fc', (28))\n",
        "DataX = DataX.replace('fire', (29))\n",
        "DataX = DataX.replace('ggp', (30))\n",
        "DataX = DataX.replace('gmtp', (31))\n",
        "DataX = DataX.replace('gre', (32))\n",
        "DataX = DataX.replace('hmp', (33))\n",
        "DataX = DataX.replace('iatp', (34))\n",
        "DataX = DataX.replace('ib', (35))\n",
        "DataX = DataX.replace('icmp', (36))\n",
        "DataX = DataX.replace('idpr', (37))\n",
        "DataX = DataX.replace('idpr-cmtp', (38))\n",
        "DataX = DataX.replace('idrp', (39))\n",
        "DataX = DataX.replace('ifmp', (40))\n",
        "DataX = DataX.replace('igmp', (41))\n",
        "DataX = DataX.replace('igp', (42))\n",
        "DataX = DataX.replace('il', (43))\n",
        "DataX = DataX.replace('i-nlsp', (44))\n",
        "DataX = DataX.replace('ip', (45))\n",
        "DataX = DataX.replace('ipcomp', (46))\n",
        "DataX = DataX.replace('ipcv', (47))\n",
        "DataX = DataX.replace('ipip', (48))\n",
        "DataX = DataX.replace('iplt', (49))\n",
        "DataX = DataX.replace('ipnip', (50))\n",
        "DataX = DataX.replace('ippc', (51))\n",
        "DataX = DataX.replace('ipv6', (52))\n",
        "DataX = DataX.replace('ipv6-frag', (53))\n",
        "DataX = DataX.replace('ipv6-no', (54))\n",
        "DataX = DataX.replace('ipv6-opts', (55))\n",
        "DataX = DataX.replace('ipv6-route', (56))\n",
        "DataX = DataX.replace('ipx-n-ip', (57))\n",
        "DataX = DataX.replace('irtp', (58))\n",
        "DataX = DataX.replace('isis', (59))\n",
        "DataX = DataX.replace('iso-ip', (60))\n",
        "DataX = DataX.replace('iso-tp4', (61))\n",
        "DataX = DataX.replace('kryptolan', (62))\n",
        "DataX = DataX.replace('l2tp', (63))\n",
        "DataX = DataX.replace('larp', (64))\n",
        "DataX = DataX.replace('leaf-1', (65))\n",
        "DataX = DataX.replace('leaf-2', (66))\n",
        "DataX = DataX.replace('merit-inp', (67))\n",
        "DataX = DataX.replace('mfe-nsp', (68))\n",
        "DataX = DataX.replace('mhrp', (69))\n",
        "DataX = DataX.replace('micp', (70))\n",
        "DataX = DataX.replace('mobile', (71))\n",
        "DataX = DataX.replace('mtp', (72))\n",
        "DataX = DataX.replace('mux', (73))\n",
        "DataX = DataX.replace('narp', (74))\n",
        "DataX = DataX.replace('netblt', (75))\n",
        "DataX = DataX.replace('nsfnet-igp', (76))\n",
        "DataX = DataX.replace('nvp', (77))\n",
        "DataX = DataX.replace('ospf', (78))\n",
        "DataX = DataX.replace('pgm', (79))\n",
        "DataX = DataX.replace('pim', (80))\n",
        "DataX = DataX.replace('pipe', (81))\n",
        "DataX = DataX.replace('pnni', (82))\n",
        "DataX = DataX.replace('pri-enc', (83))\n",
        "DataX = DataX.replace('prm', (84))\n",
        "DataX = DataX.replace('ptp', (85))\n",
        "DataX = DataX.replace('pup', (86))\n",
        "DataX = DataX.replace('pvp', (87))\n",
        "DataX = DataX.replace('qnx', (88))\n",
        "DataX = DataX.replace('rdp', (89))\n",
        "DataX = DataX.replace('rsvp', (90))\n",
        "DataX = DataX.replace('rtp', (91))\n",
        "DataX = DataX.replace('rvd', (92))\n",
        "DataX = DataX.replace('sat-expak', (93))\n",
        "DataX = DataX.replace('sat-mon', (94))\n",
        "DataX = DataX.replace('sccopmce', (95))\n",
        "DataX = DataX.replace('scps', (96))\n",
        "DataX = DataX.replace('sctp', (97))\n",
        "DataX = DataX.replace('sdrp', (98))\n",
        "DataX = DataX.replace('secure-vmtp', (99))\n",
        "DataX = DataX.replace('sep', (100))\n",
        "DataX = DataX.replace('skip', (101))\n",
        "DataX = DataX.replace('sm', (102))\n",
        "DataX = DataX.replace('smp', (103))\n",
        "DataX = DataX.replace('snp', (104))\n",
        "DataX = DataX.replace('sprite-rpc', (105))\n",
        "DataX = DataX.replace('sps', (106))\n",
        "DataX = DataX.replace('srp', (107))\n",
        "DataX = DataX.replace('st2', (108))\n",
        "DataX = DataX.replace('stp', (109))\n",
        "DataX = DataX.replace('sun-nd', (110))\n",
        "DataX = DataX.replace('swipe', (111))\n",
        "DataX = DataX.replace('tcf', (112))\n",
        "DataX = DataX.replace('tcp', (113))\n",
        "DataX = DataX.replace('tlsp', (114))\n",
        "DataX = DataX.replace('tp++', (115))\n",
        "DataX = DataX.replace('trunk-1', (116))\n",
        "DataX = DataX.replace('trunk-2', (117))\n",
        "DataX = DataX.replace('ttp', (118))\n",
        "DataX = DataX.replace('udp', (119))\n",
        "DataX = DataX.replace('unas', (120))\n",
        "DataX = DataX.replace('uti', (121))\n",
        "DataX = DataX.replace('vines', (122))\n",
        "DataX = DataX.replace('visa', (123))\n",
        "DataX = DataX.replace('vmtp', (124))\n",
        "DataX = DataX.replace('vrrp', (125))\n",
        "DataX = DataX.replace('wb-expak', (126))\n",
        "DataX = DataX.replace('wb-mon', (127))\n",
        "DataX = DataX.replace('wsn', (128))\n",
        "DataX = DataX.replace('xnet', (129))\n",
        "DataX = DataX.replace('xns-idp', (130))\n",
        "DataX = DataX.replace('wb-expak', (126))\n",
        "DataX = DataX.replace('wb-mon', (127))\n",
        "DataX = DataX.replace('wsn', (128))\n",
        "DataX = DataX.replace('xnet', (129))\n",
        "DataX = DataX.replace('xns-idp', (130))\n",
        "DataX = DataX.replace('xtp', (131))\n",
        "DataX = DataX.replace('zero', (132))\n",
        "DataX = DataX.replace('-', 0)\n",
        "DataX = DataX.replace('dhcp', 1)\n",
        "DataX = DataX.replace('dns', 2)\n",
        "DataX = DataX.replace('ftp', 3)\n",
        "DataX = DataX.replace('ftp-data', 4)\n",
        "DataX = DataX.replace('http', 5)\n",
        "DataX = DataX.replace('irc', 6)\n",
        "DataX = DataX.replace('pop3', 7)\n",
        "DataX = DataX.replace('radius', 8)\n",
        "DataX = DataX.replace('smtp', 9)\n",
        "DataX = DataX.replace('snmp', 10)\n",
        "DataX = DataX.replace('ssh', 11)\n",
        "DataX = DataX.replace('ssl', 12)\n",
        "DataX = DataX.replace('FIN', 0)\n",
        "DataX = DataX.replace('INT', 1)\n",
        "DataX = DataX.replace('CON', 2)\n",
        "DataX = DataX.replace('ECO', 3)\n",
        "DataX = DataX.replace('REQ', 4)\n",
        "DataX = DataX.replace('RST', 5)\n",
        "DataX = DataX.replace('PAR', 6)\n",
        "DataX = DataX.replace('URN', 7)\n",
        "DataX = DataX.replace('no', 8)\n",
        "# Data Normalization -- Scale the features to be between 0 an 1.\n",
        "x = DataX.values\n",
        "min_max_scaler = preprocessing.MinMaxScaler(feature_range= (0,1))\n",
        "x_scaled = min_max_scaler.fit_transform(x)\n",
        "DataX = pd.DataFrame(x_scaled)\n",
        "\n",
        "\n",
        "# Y Data \n",
        "DataY_Binary = Data.iloc[: , -1:] # Has normal and attack\n",
        "DataY_Classifier = Data.iloc[: , -2:-1] # All the classes associated with the attacks\n",
        "DataY_Classes_withNames = DataY_Classifier;\n",
        "x = np.array([0,1])\n",
        "\n",
        "# Replace stings with ints \n",
        "DataY_Classifier = DataY_Classifier.replace('Normal', int(0))\n",
        "DataY_Classifier = DataY_Classifier.replace('Analysis', int(1))\n",
        "DataY_Classifier = DataY_Classifier.replace('Backdoor', int(2))\n",
        "DataY_Classifier = DataY_Classifier.replace('DoS', int(3))\n",
        "DataY_Classifier = DataY_Classifier.replace('Exploits', int(4))\n",
        "DataY_Classifier = DataY_Classifier.replace('Generic', int(5))\n",
        "DataY_Classifier = DataY_Classifier.replace('Reconnaissance', int(6))\n",
        "DataY_Classifier = DataY_Classifier.replace('Shellcode', int(7))\n",
        "DataY_Classifier = DataY_Classifier.replace('Worms', int(8))\n",
        "DataY_Classifier = DataY_Classifier.replace('Fuzzers', int(9))\n",
        "DataY_Classifier_Labels = ['Normal', 'Analysis', 'Backdoor', 'DoS', 'Exploits', 'Generic', 'Reconnaissance', 'Shellcode', 'Worms', 'Fuzzers']\n",
        "num_of_classess = 10"
      ]
    },
    {
      "cell_type": "code",
      "source": [
        "# Demensionality Reduction \n",
        "from sklearn.decomposition import PCA\n",
        "pca = PCA()\n",
        "pca.fit(DataX)\n",
        "cumsum = np.cumsum(pca.explained_variance_ratio_)\n",
        "plt.figure(figsize=(6,4))\n",
        "plt.plot(cumsum, linewidth=3)\n",
        "plt.xlabel(\"Dimensions\")\n",
        "plt.ylabel(\"Explained Variance\")\n",
        "plt.grid(True)\n",
        "plt.show()"
      ],
      "metadata": {
        "colab": {
          "base_uri": "https://localhost:8080/",
          "height": 279
        },
        "id": "dKVTPVTn2MHx",
        "outputId": "80b32031-23e1-462f-cac1-17a9d7412692"
      },
      "execution_count": 3,
      "outputs": [
        {
          "output_type": "display_data",
          "data": {
            "text/plain": [
              "<Figure size 432x288 with 1 Axes>"
            ],
            "image/png": "[encoded data removed]"
          },
          "metadata": {
            "needs_background": "light"
          }
        }
      ]
    },
    {
      "cell_type": "code",
      "source": [
        "## Demensionality Reduction - Uncomment to reduce dementionality\n",
        "\n",
        "# pca = PCA(n_components=15) # 15 dimensional PCA\n",
        "# pca.fit(DataX)\n",
        "# DataX_pca = pca.transform(DataX)\n",
        "# X_train, X_test, y_train, y_test = train_test_split(DataX_pca, DataY_Classifier,test_size=0.25)"
      ],
      "metadata": {
        "id": "7JTxEhYNyv9p"
      },
      "execution_count": 4,
      "outputs": []
    },
    {
      "cell_type": "markdown",
      "source": [
        "# Visualize the Data "
      ],
      "metadata": {
        "id": "onJzQPZPoC2e"
      }
    },
    {
      "cell_type": "code",
      "source": [
        "DataY_Classes_withNames.apply(pd.value_counts).plot.pie(subplots=True, figsize=(12, 12),center =(-10,-10))\n"
      ],
      "metadata": {
        "colab": {
          "base_uri": "https://localhost:8080/",
          "height": 720
        },
        "id": "znDqxprIoBuJ",
        "outputId": "c19de193-83b0-4543-9233-78478859a695"
      },
      "execution_count": 5,
      "outputs": [
        {
          "output_type": "execute_result",
          "data": {
            "text/plain": [
              "array([<matplotlib.axes._subplots.AxesSubplot object at 0x7f63e6bd7c50>],\n",
              "      dtype=object)"
            ]
          },
          "metadata": {},
          "execution_count": 5
        },
        {
          "output_type": "display_data",
          "data": {
            "text/plain": [
              "<Figure size 864x864 with 1 Axes>"
            ],
            "image/png": "[encoded data removed]"
          },
          "metadata": {}
        }
      ]
    },
    {
      "cell_type": "markdown",
      "source": [
        "# Deep Nural Network \n",
        "In this approach we implement a DNN to determine the classes."
      ],
      "metadata": {
        "id": "s5OeNWrwV0xr"
      }
    },
    {
      "cell_type": "code",
      "execution_count": 6,
      "metadata": {
        "id": "_0XNDlfP90JE"
      },
      "outputs": [],
      "source": [
        "# Create the model \n",
        "model = models.Sequential()\n",
        "model.add(tf.keras.layers.Input(shape=(42,)))\n",
        "model.add(tf.keras.layers.Dense(100,  activation='relu'))\n",
        "model.add(tf.keras.layers.Dense(75,  activation='relu'))\n",
        "model.add(tf.keras.layers.Dense(10, activation='softmax'))"
      ]
    },
    {
      "cell_type": "code",
      "execution_count": 7,
      "metadata": {
        "id": "KLR7jOR-7Pzm",
        "colab": {
          "base_uri": "https://localhost:8080/",
          "height": 422
        },
        "outputId": "826f23ef-0d5a-43e9-d3f6-a944d48c040a"
      },
      "outputs": [
        {
          "output_type": "execute_result",
          "data": {
            "image/png": "[encoded data removed]",
            "text/plain": [
              "<IPython.core.display.Image object>"
            ]
          },
          "metadata": {},
          "execution_count": 7
        }
      ],
      "source": [
        "lss = loss=tf.keras.losses.SparseCategoricalCrossentropy()\n",
        "opt = tf.keras.optimizers.Adam(learning_rate=0.001)\n",
        "model.compile(optimizer= opt, loss = lss, metrics=['accuracy'])\n",
        "plot_model(model,show_shapes=True)"
      ]
    },
    {
      "cell_type": "code",
      "execution_count": 8,
      "metadata": {
        "colab": {
          "base_uri": "https://localhost:8080/"
        },
        "id": "FYPB58cR-aeC",
        "outputId": "7a25915f-139f-4167-d20b-79d2cbe69479"
      },
      "outputs": [
        {
          "output_type": "stream",
          "name": "stdout",
          "text": [
            "Epoch 1/20\n",
            "4110/4110 [==============================] - 22s 5ms/step - loss: 0.7008 - accuracy: 0.7397\n",
            "Epoch 2/20\n",
            "4110/4110 [==============================] - 12s 3ms/step - loss: 0.6019 - accuracy: 0.7702\n",
            "Epoch 3/20\n",
            "4110/4110 [==============================] - 10s 2ms/step - loss: 0.5666 - accuracy: 0.7816\n",
            "Epoch 4/20\n",
            "4110/4110 [==============================] - 10s 2ms/step - loss: 0.5439 - accuracy: 0.7874\n",
            "Epoch 5/20\n",
            "4110/4110 [==============================] - 10s 2ms/step - loss: 0.5289 - accuracy: 0.7929\n",
            "Epoch 6/20\n",
            "4110/4110 [==============================] - 10s 2ms/step - loss: 0.5185 - accuracy: 0.7954\n",
            "Epoch 7/20\n",
            "4110/4110 [==============================] - 10s 2ms/step - loss: 0.5113 - accuracy: 0.7983\n",
            "Epoch 8/20\n",
            "4110/4110 [==============================] - 10s 2ms/step - loss: 0.5060 - accuracy: 0.7998\n",
            "Epoch 9/20\n",
            "4110/4110 [==============================] - 10s 2ms/step - loss: 0.5005 - accuracy: 0.8014\n",
            "Epoch 10/20\n",
            "4110/4110 [==============================] - 10s 2ms/step - loss: 0.4970 - accuracy: 0.8025\n",
            "Epoch 11/20\n",
            "4110/4110 [==============================] - 11s 3ms/step - loss: 0.4938 - accuracy: 0.8038\n",
            "Epoch 12/20\n",
            "4110/4110 [==============================] - 10s 2ms/step - loss: 0.4898 - accuracy: 0.8050\n",
            "Epoch 13/20\n",
            "4110/4110 [==============================] - 10s 2ms/step - loss: 0.4877 - accuracy: 0.8045\n",
            "Epoch 14/20\n",
            "4110/4110 [==============================] - 10s 2ms/step - loss: 0.4843 - accuracy: 0.8051\n",
            "Epoch 15/20\n",
            "4110/4110 [==============================] - 10s 2ms/step - loss: 0.4824 - accuracy: 0.8063\n",
            "Epoch 16/20\n",
            "4110/4110 [==============================] - 10s 2ms/step - loss: 0.4801 - accuracy: 0.8068\n",
            "Epoch 17/20\n",
            "4110/4110 [==============================] - 10s 2ms/step - loss: 0.4773 - accuracy: 0.8076\n",
            "Epoch 18/20\n",
            "4110/4110 [==============================] - 12s 3ms/step - loss: 0.4748 - accuracy: 0.8086\n",
            "Epoch 19/20\n",
            "4110/4110 [==============================] - 10s 2ms/step - loss: 0.4736 - accuracy: 0.8088\n",
            "Epoch 20/20\n",
            "4110/4110 [==============================] - 10s 2ms/step - loss: 0.4710 - accuracy: 0.8096\n"
          ]
        }
      ],
      "source": [
        "# Train the model\n",
        "# Split the data 75 Train 25 Test \n",
        "X_train, X_test, y_train, y_test = train_test_split(DataX, DataY_Classifier,test_size=0.25)\n",
        "history  = model.fit(X_train, y_train, epochs=20)"
      ]
    },
    {
      "cell_type": "code",
      "source": [
        "plt.plot(history.history['accuracy'])\n",
        "plt.plot(history.history['loss'])\n",
        "plt.title('model accuracy')\n",
        "plt.ylabel('accuracy')\n",
        "plt.xlabel('epoch')\n",
        "plt.legend(['train', 'val', 'loss'], loc='upper left')\n",
        "plt.show()\n",
        "loss, accuracy = model.evaluate(X_test, y_test, verbose=0)\n",
        "print(\"Accuracy = \", accuracy)\n",
        "print(\"Loss = \", loss)"
      ],
      "metadata": {
        "colab": {
          "base_uri": "https://localhost:8080/",
          "height": 332
        },
        "id": "lR6VEv9i5jBz",
        "outputId": "e09ce2a5-aed0-4bff-a290-2c415f41a927"
      },
      "execution_count": 9,
      "outputs": [
        {
          "output_type": "display_data",
          "data": {
            "text/plain": [
              "<Figure size 432x288 with 1 Axes>"
            ],
            "image/png": "[encoded data removed]"
          },
          "metadata": {
            "needs_background": "light"
          }
        },
        {
          "output_type": "stream",
          "name": "stdout",
          "text": [
            "Accuracy =  0.8091979026794434\n",
            "Loss =  0.47708001732826233\n"
          ]
        }
      ]
    },
    {
      "cell_type": "code",
      "source": [
        "# get predictions\n",
        "y_pred_DNN = model.predict(X_test, verbose=2)\n",
        "# compute confusion matrix\n",
        "confusion_DNN = tf.math.confusion_matrix( labels = y_test,\n",
        "              predictions = np.argmax(y_pred_DNN, axis=1),\n",
        "              num_classes=num_of_classess)   \n",
        "print(confusion_DNN)\n",
        "# True label is Y and predicted label is\n",
        "from sklearn.metrics import classification_report\n",
        "print('\\nClassification Report\\n')\n",
        "print(classification_report(y_test, np.argmax(y_pred_DNN, axis=1), target_names=DataY_Classifier_Labels))"
      ],
      "metadata": {
        "colab": {
          "base_uri": "https://localhost:8080/"
        },
        "id": "bgKTYTcc4mil",
        "outputId": "f694d3b3-5f87-4985-f8c6-5c92dafd406c"
      },
      "execution_count": 10,
      "outputs": [
        {
          "output_type": "stream",
          "name": "stdout",
          "text": [
            "1370/1370 - 2s - 2s/epoch - 1ms/step\n",
            "tf.Tensor(\n",
            "[[13092     7     0     2   148     0    43     3     0   723]\n",
            " [   87    35     0     2   363     0     0     0     0     0]\n",
            " [    2     0     6     2   402     0    12     0     0     3]\n",
            " [   24     0     6    86  2805     3    22    17     0    31]\n",
            " [  109     2     4    29  7924     3    48    19     0   154]\n",
            " [    6     0     0    21   178  9807     4     1     0    14]\n",
            " [   40     0     0     3   787     0  1814     1     0    24]\n",
            " [    8     0     0     0    78     0    61   100     0    44]\n",
            " [    1     0     0     0    23     0     2     0     0     3]\n",
            " [ 1339     0     0     2   532     0   104    13     0  2608]], shape=(10, 10), dtype=int32)\n",
            "\n",
            "Classification Report\n",
            "\n",
            "                precision    recall  f1-score   support\n",
            "\n",
            "        Normal       0.89      0.93      0.91     14018\n",
            "      Analysis       0.80      0.07      0.13       487\n",
            "      Backdoor       0.38      0.01      0.03       427\n",
            "           DoS       0.59      0.03      0.05      2994\n",
            "      Exploits       0.60      0.96      0.74      8292\n",
            "       Generic       1.00      0.98      0.99     10031\n",
            "Reconnaissance       0.86      0.68      0.76      2669\n",
            "     Shellcode       0.65      0.34      0.45       291\n",
            "         Worms       0.00      0.00      0.00        29\n",
            "       Fuzzers       0.72      0.57      0.64      4598\n",
            "\n",
            "      accuracy                           0.81     43836\n",
            "     macro avg       0.65      0.46      0.47     43836\n",
            "  weighted avg       0.81      0.81      0.78     43836\n",
            "\n"
          ]
        },
        {
          "output_type": "stream",
          "name": "stderr",
          "text": [
            "/usr/local/lib/python3.7/dist-packages/sklearn/metrics/_classification.py:1318: UndefinedMetricWarning: Precision and F-score are ill-defined and being set to 0.0 in labels with no predicted samples. Use `zero_division` parameter to control this behavior.\n",
            "  _warn_prf(average, modifier, msg_start, len(result))\n",
            "/usr/local/lib/python3.7/dist-packages/sklearn/metrics/_classification.py:1318: UndefinedMetricWarning: Precision and F-score are ill-defined and being set to 0.0 in labels with no predicted samples. Use `zero_division` parameter to control this behavior.\n",
            "  _warn_prf(average, modifier, msg_start, len(result))\n",
            "/usr/local/lib/python3.7/dist-packages/sklearn/metrics/_classification.py:1318: UndefinedMetricWarning: Precision and F-score are ill-defined and being set to 0.0 in labels with no predicted samples. Use `zero_division` parameter to control this behavior.\n",
            "  _warn_prf(average, modifier, msg_start, len(result))\n"
          ]
        }
      ]
    },
    {
      "cell_type": "code",
      "source": [
        "# Manually Calcute accuraccy, precision, recall, F1 for the Attack vs non-attacks.\n",
        "trueSafe = int(confusion_DNN[0][0])\n",
        "falseSafe = 0\n",
        "falseDanger = 0\n",
        "for i in range(9):\n",
        "  falseSafe += confusion_DNN[i+1][0]\n",
        "for i in range(9):\n",
        "  falseDanger += confusion_DNN[0][i+1]\n",
        "\n",
        "trueDanger =  len(y_test) - trueSafe - falseSafe - falseDanger\n",
        "precision = trueSafe/ (trueSafe + falseSafe)\n",
        "recall = trueSafe / (trueSafe + falseDanger)\n",
        "F1 = trueSafe / (trueSafe + ( (falseDanger + falseSafe) /2) )\n",
        "accuraccy = (trueSafe + trueDanger)/  len(y_test)\n",
        "tf.print(\"Precision = \", precision)\n",
        "tf.print(\"recall = \", recall)\n",
        "tf.print(\"F1 = \", F1)\n",
        "tf.print(\"accuraccy = \", accuraccy)"
      ],
      "metadata": {
        "colab": {
          "base_uri": "https://localhost:8080/"
        },
        "id": "nCeTwOiadk6g",
        "outputId": "f6a42805-0ee9-4ce1-d08b-983aece87633"
      },
      "execution_count": 11,
      "outputs": [
        {
          "output_type": "stream",
          "name": "stdout",
          "text": [
            "Precision =  0.89012782159369053\n",
            "recall =  0.93394207447567412\n",
            "F1 =  0.91150873772888674\n",
            "accuraccy =  0.94201113240259149\n"
          ]
        }
      ]
    },
    {
      "cell_type": "markdown",
      "source": [
        "# Random Forest Classifier\n"
      ],
      "metadata": {
        "id": "-TY8wm1wXr0C"
      }
    },
    {
      "cell_type": "code",
      "source": [
        "from sklearn.ensemble import RandomForestClassifier\n",
        "# Convert data to hot 1 encoding for random forest classifier\n",
        "DataY_Classifier_hot1 = to_categorical(DataY_Classifier, 10)\n",
        "X_train, X_test, y_train, y_test = train_test_split(DataX, DataY_Classifier_hot1,test_size=0.25)\n",
        "rfc = RandomForestClassifier()\n",
        "rfc.fit(X_train,y_train)\n",
        "y_pred_RF = rfc.predict(X_test)\n",
        "confusion_RF = tf.math.confusion_matrix(\n",
        "              labels = np.argmax(y_test, axis = 1),   # get trule labels \n",
        "              predictions = np.argmax(y_pred_RF, axis=1),  # get predicted labels \n",
        "              num_classes=10)   \n",
        "print(confusion_RF , \"\\n\")\n",
        "from sklearn.metrics import classification_report\n",
        "print(classification_report( np.argmax(y_test, axis = 1), np.argmax(y_pred_RF, axis=1), target_names=DataY_Classifier_Labels))"
      ],
      "metadata": {
        "colab": {
          "base_uri": "https://localhost:8080/"
        },
        "id": "PlbV8l6LEXz1",
        "outputId": "3f8e9a86-f5b5-44ab-f1ce-09e4bf181bc5"
      },
      "execution_count": 12,
      "outputs": [
        {
          "output_type": "stream",
          "name": "stdout",
          "text": [
            "tf.Tensor(\n",
            "[[13237     4     0     0    51     0    10     4     0   810]\n",
            " [  307    76     9     4   109     0     0     0     0     1]\n",
            " [  291    10    41     6    78     1     0     1     0     3]\n",
            " [ 1806     0     2   150  1001     2    12     9     1    10]\n",
            " [ 2836     2     0    68  5401     4   105    15     2    36]\n",
            " [  108     0     1     6    65  9760     0     2     0     5]\n",
            " [  370     0     2    14   297     0  1913     0     0     2]\n",
            " [  111     0     0     0    17     0     3   133     0    10]\n",
            " [   12     0     0     0    11     0     0     0     4     0]\n",
            " [ 1030     4     2    10   152     1     1    15     0  3260]], shape=(10, 10), dtype=int32) \n",
            "\n",
            "                precision    recall  f1-score   support\n",
            "\n",
            "        Normal       0.66      0.94      0.77     14116\n",
            "      Analysis       0.79      0.15      0.25       506\n",
            "      Backdoor       0.72      0.10      0.17       431\n",
            "           DoS       0.58      0.05      0.09      2993\n",
            "      Exploits       0.75      0.64      0.69      8469\n",
            "       Generic       1.00      0.98      0.99      9947\n",
            "Reconnaissance       0.94      0.74      0.82      2598\n",
            "     Shellcode       0.74      0.49      0.59       274\n",
            "         Worms       0.57      0.15      0.24        27\n",
            "       Fuzzers       0.79      0.73      0.76      4475\n",
            "\n",
            "      accuracy                           0.78     43836\n",
            "     macro avg       0.75      0.50      0.54     43836\n",
            "  weighted avg       0.78      0.78      0.75     43836\n",
            "\n"
          ]
        }
      ]
    },
    {
      "cell_type": "markdown",
      "source": [
        "# DecisionTreeClassifier"
      ],
      "metadata": {
        "id": "suGWtEvsCc3h"
      }
    },
    {
      "cell_type": "code",
      "source": [
        "from sklearn.tree import DecisionTreeClassifier\n",
        "from sklearn.tree import export_graphviz\n",
        "from graphviz import Source\n",
        "# Train\n",
        "DataY_Classifier_hot1 = to_categorical(DataY_Classifier, 10)\n",
        "X_train, X_test, y_train, y_test = train_test_split(DataX, DataY_Classifier_hot1,test_size=0.25)\n",
        "dec_tree_clf = DecisionTreeClassifier()\n",
        "dec_tree_clf.fit(X_train, y_train)\n",
        "\n",
        "# Test \n",
        "y_pred_DT = rfc.predict(X_test)\n",
        "confusion_DT = tf.math.confusion_matrix(\n",
        "              labels = np.argmax(y_test, axis = 1),   # get trule labels \n",
        "              predictions = np.argmax(y_pred_DT, axis=1),  # get predicted labels \n",
        "              num_classes=10)   \n",
        "print(confusion_DT)\n",
        "from sklearn.metrics import classification_report\n",
        "print(classification_report( np.argmax(y_test, axis = 1), np.argmax(y_pred_DT, axis=1), target_names=DataY_Classifier_Labels))"
      ],
      "metadata": {
        "colab": {
          "base_uri": "https://localhost:8080/"
        },
        "id": "2bg2fuKs4-WS",
        "outputId": "2449e4fe-b953-4b3f-90e5-c6fe40a222d4"
      },
      "execution_count": 13,
      "outputs": [
        {
          "output_type": "stream",
          "name": "stdout",
          "text": [
            "tf.Tensor(\n",
            "[[13727     0     0     0     8     0     4     2     0   242]\n",
            " [  283   125     1     2    65     0     0     0     0     0]\n",
            " [  253     2    92     1    59     1     1     0     0     1]\n",
            " [ 1922     1     1   513   607     0     5     3     0     0]\n",
            " [ 2372     1     0    28  5927     3    29     3     2     9]\n",
            " [   89     0     0     5    26  9835     0     1     0     1]\n",
            " [  361     0     0     7   140     0  2132     0     0     1]\n",
            " [   36     0     0     0     6     0     2   224     0     5]\n",
            " [    1     0     0     0     3     0     0     0    27     0]\n",
            " [  521     1     0     5   108     1     0     3     0  4000]], shape=(10, 10), dtype=int32)\n",
            "                precision    recall  f1-score   support\n",
            "\n",
            "        Normal       0.70      0.98      0.82     13983\n",
            "      Analysis       0.96      0.26      0.41       476\n",
            "      Backdoor       0.98      0.22      0.37       410\n",
            "           DoS       0.91      0.17      0.28      3052\n",
            "      Exploits       0.85      0.71      0.77      8374\n",
            "       Generic       1.00      0.99      0.99      9957\n",
            "Reconnaissance       0.98      0.81      0.89      2641\n",
            "     Shellcode       0.95      0.82      0.88       273\n",
            "         Worms       0.93      0.87      0.90        31\n",
            "       Fuzzers       0.94      0.86      0.90      4639\n",
            "\n",
            "      accuracy                           0.83     43836\n",
            "     macro avg       0.92      0.67      0.72     43836\n",
            "  weighted avg       0.86      0.83      0.82     43836\n",
            "\n"
          ]
        }
      ]
    }
  ],
  "metadata": {
    "accelerator": "TPU",
    "colab": {
      "collapsed_sections": [],
      "provenance": [],
      "authorship_tag": "ABX9TyP7HTWTZGrbogned+gQoSyL",
      "include_colab_link": true
    },
    "gpuClass": "standard",
    "kernelspec": {
      "display_name": "Python 3",
      "name": "python3"
    },
    "language_info": {
      "name": "python"
    }
  },
  "nbformat": 4,
  "nbformat_minor": 0
}